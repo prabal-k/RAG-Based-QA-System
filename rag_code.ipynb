{
 "cells": [
  {
   "cell_type": "markdown",
   "id": "af0dc740",
   "metadata": {},
   "source": [
    "# Architecture\n",
    "\n",
    "![Screenshot](./flow_diagram.png)"
   ]
  },
  {
   "cell_type": "code",
   "execution_count": 13,
   "id": "f9854404",
   "metadata": {},
   "outputs": [],
   "source": [
    "from langchain_community.document_loaders.csv_loader import CSVLoader #To load the csv file (data containing companys faq)\n",
    "from langchain_huggingface import ChatHuggingFace,HuggingFaceEndpoint,HuggingFaceEmbeddings"
   ]
  },
  {
   "cell_type": "markdown",
   "id": "c6e66500",
   "metadata": {},
   "source": [
    "## Step-1 Load the data (company_Q1.csv)\n",
    "\n",
    "#### load the CSV file that Contains the FAQ question regarding the company"
   ]
  },
  {
   "cell_type": "code",
   "execution_count": null,
   "id": "8f9b5c7c",
   "metadata": {},
   "outputs": [],
   "source": [
    "file_path = \"./company_QA.csv\" #Path to the file\n",
    "loader = CSVLoader(file_path=file_path) #CSVLoader to load the CSV file\n",
    "docs = []\n",
    "for doc in loader.lazy_load(): #Perfom lazy load\n",
    "    docs.append(doc)\n"
   ]
  },
  {
   "cell_type": "code",
   "execution_count": null,
   "id": "aea4713e",
   "metadata": {},
   "outputs": [
    {
     "data": {
      "text/plain": [
       "50"
      ]
     },
     "execution_count": 8,
     "metadata": {},
     "output_type": "execute_result"
    }
   ],
   "source": [
    "len(docs) # Total number of document object"
   ]
  },
  {
   "cell_type": "code",
   "execution_count": 10,
   "id": "fd68e33f",
   "metadata": {},
   "outputs": [
    {
     "data": {
      "text/plain": [
       "Document(metadata={'source': './company_QA.csv', 'row': 0}, page_content=\"Question: Where is the company's headquarters located?\\nAnswer: Our headquarters is located in San Francisco, California. Nestled in the vibrant downtown area, it provides easy access to public transport and major city landmarks.\")"
      ]
     },
     "execution_count": 10,
     "metadata": {},
     "output_type": "execute_result"
    }
   ],
   "source": [
    "docs[0] #first document object"
   ]
  },
  {
   "cell_type": "markdown",
   "id": "6eb32fa9",
   "metadata": {},
   "source": [
    "### Note : No need to performing chunking since each document object is a single row of the CSV file"
   ]
  },
  {
   "cell_type": "code",
   "execution_count": null,
   "id": "c57373af",
   "metadata": {},
   "outputs": [],
   "source": []
  },
  {
   "cell_type": "markdown",
   "id": "393ec184",
   "metadata": {},
   "source": [
    "### Step-2 Load the LLM and Embedding model from HuggingFace"
   ]
  },
  {
   "cell_type": "code",
   "execution_count": null,
   "id": "e1d67a17",
   "metadata": {},
   "outputs": [],
   "source": [
    "# Load the LLM model (Mistral-7b)\n"
   ]
  },
  {
   "cell_type": "code",
   "execution_count": null,
   "id": "fc7e9a32",
   "metadata": {},
   "outputs": [],
   "source": []
  }
 ],
 "metadata": {
  "kernelspec": {
   "display_name": "berrybytesrag",
   "language": "python",
   "name": "python3"
  },
  "language_info": {
   "codemirror_mode": {
    "name": "ipython",
    "version": 3
   },
   "file_extension": ".py",
   "mimetype": "text/x-python",
   "name": "python",
   "nbconvert_exporter": "python",
   "pygments_lexer": "ipython3",
   "version": "3.11.7"
  }
 },
 "nbformat": 4,
 "nbformat_minor": 5
}
