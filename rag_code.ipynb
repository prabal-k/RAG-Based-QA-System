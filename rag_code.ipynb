{
 "cells": [
  {
   "cell_type": "markdown",
   "id": "af0dc740",
   "metadata": {},
   "source": [
    "# Architecture\n",
    "\n",
    "![Screenshot](./flow_diagram.png)"
   ]
  },
  {
   "cell_type": "code",
   "execution_count": null,
   "id": "f9854404",
   "metadata": {},
   "outputs": [
    {
     "data": {
      "text/plain": [
       "True"
      ]
     },
     "execution_count": 1,
     "metadata": {},
     "output_type": "execute_result"
    }
   ],
   "source": [
    "from langchain_community.document_loaders.csv_loader import CSVLoader #To load the csv file (data containing companys faq)\n",
    "from langchain_huggingface import HuggingFaceEmbeddings # Load the  embedding model from huggingface\n",
    "from langchain_chroma import Chroma #Vectorstore to store the embedded vectors\n",
    "from langchain_core.prompts import PromptTemplate\n",
    "from langchain.chains import create_retrieval_chain # \"Combines a retriever (to fetch docs) with the 'create_stuff_document_chain' to automate end-to-end retrieval + answering.\"\n",
    "from langchain.chains.combine_documents import create_stuff_documents_chain #\"Formats retrieved documents + question into a prompt and passes it to the LLM for answering.\"\n",
    "from langchain_core.tools import tool # To create a custom tool\n",
    "from langchain_community.tools import DuckDuckGoSearchRun #Search user queries Online\n",
    "\n",
    "import warnings\n",
    "warnings.filterwarnings('ignore')\n",
    "from dotenv import load_dotenv\n",
    "load_dotenv()"
   ]
  },
  {
   "cell_type": "markdown",
   "id": "c6e66500",
   "metadata": {},
   "source": [
    "## Step-1 Load the data (company_Q1.csv)\n",
    "\n",
    "#### load the CSV file that Contains the FAQ question regarding the company"
   ]
  },
  {
   "cell_type": "code",
   "execution_count": 2,
   "id": "8f9b5c7c",
   "metadata": {},
   "outputs": [],
   "source": [
    "file_path = \"./company_QA.csv\" #Path to the file\n",
    "loader = CSVLoader(file_path=file_path) #CSVLoader to load the CSV file\n",
    "docs = []\n",
    "for doc in loader.lazy_load(): #Perfom lazy load\n",
    "    docs.append(doc)\n"
   ]
  },
  {
   "cell_type": "code",
   "execution_count": 3,
   "id": "aea4713e",
   "metadata": {},
   "outputs": [
    {
     "data": {
      "text/plain": [
       "59"
      ]
     },
     "execution_count": 3,
     "metadata": {},
     "output_type": "execute_result"
    }
   ],
   "source": [
    "len(docs) # Total number of document object"
   ]
  },
  {
   "cell_type": "code",
   "execution_count": 4,
   "id": "fd68e33f",
   "metadata": {},
   "outputs": [
    {
     "data": {
      "text/plain": [
       "Document(metadata={'source': './company_QA.csv', 'row': 0}, page_content=\"Question: Where is the company's headquarters located?\\nAnswer: Our headquarters is located in San Francisco, California. Nestled in the vibrant downtown area, it provides easy access to public transport and major city landmarks.\")"
      ]
     },
     "execution_count": 4,
     "metadata": {},
     "output_type": "execute_result"
    }
   ],
   "source": [
    "docs[0] #first document object"
   ]
  },
  {
   "cell_type": "markdown",
   "id": "6eb32fa9",
   "metadata": {},
   "source": [
    "### Note : No need to performing chunking since each document object is a single row of the CSV file"
   ]
  },
  {
   "cell_type": "markdown",
   "id": "393ec184",
   "metadata": {},
   "source": [
    "## Step-2 Load the LLM and Embedding model from HuggingFace"
   ]
  },
  {
   "cell_type": "code",
   "execution_count": 5,
   "id": "e1d67a17",
   "metadata": {},
   "outputs": [],
   "source": [
    "# # Load the Mistral 7b model \n",
    "# repo_id = \"codellama/CodeLlama-7b-hf\"\n",
    "# api_key = \"\" #Api key to access the hugging face(Please use your own API Key)\n",
    "# llm = HuggingFaceEndpoint(\n",
    "#     repo_id = repo_id,\n",
    "#     huggingfacehub_api_token=api_key,\n",
    "#     temperature = 0.3, \n",
    "#     max_new_tokens=200 ,  # Max number of tokens to generate in the final output\n",
    "\n",
    "# )\n",
    "# model = ChatHuggingFace(llm=llm)\n",
    "# #Test the model if working properly\n",
    "# # model.invoke(\"hey how are you\")"
   ]
  },
  {
   "cell_type": "code",
   "execution_count": 6,
   "id": "dcedc97a",
   "metadata": {},
   "outputs": [],
   "source": [
    "# from langchain.llms import HuggingFaceHub\n",
    "# from langchain.chat_models import ChatHuggingFace\n",
    "\n",
    "# repo_id = \"codellama/CodeLlama-7b-hf\"\n",
    "# api_key = \"\"\n",
    "\n",
    "# llm = HuggingFaceHub(\n",
    "#     repo_id=repo_id,\n",
    "#     huggingfacehub_api_token=api_key,\n",
    "#     model_kwargs={\"temperature\": 0.3, \"max_new_tokens\": 200}\n",
    "# )\n",
    "\n",
    "# model = ChatHuggingFace(llm=llm)\n",
    "\n",
    "# # Test\n",
    "# response = model.invoke(\"Who is Messi?\")\n",
    "# print(response)"
   ]
  },
  {
   "cell_type": "code",
   "execution_count": 7,
   "id": "72ff23f6",
   "metadata": {},
   "outputs": [],
   "source": [
    "from langchain_groq import ChatGroq\n",
    "model = ChatGroq(model_name = \"Llama-3.3-70b-Versatile\",max_tokens= 200) # Load the Groq Model"
   ]
  },
  {
   "cell_type": "code",
   "execution_count": 8,
   "id": "f8c4c95c",
   "metadata": {},
   "outputs": [],
   "source": [
    "#Loading the embedding model \n",
    "embedding_model = HuggingFaceEmbeddings(model_name = \"sentence-transformers/all-mpnet-base-v2\")"
   ]
  },
  {
   "cell_type": "markdown",
   "id": "87fab60f",
   "metadata": {},
   "source": [
    "## Step-3 Creating a Vectorstore and a retriever\n",
    "\n",
    "#### a. Chroma vector store to store the embedding vectors\n",
    "#### b. retriever to fetch the relevant documents based on user query from vectorstore"
   ]
  },
  {
   "cell_type": "code",
   "execution_count": 9,
   "id": "6625bd3f",
   "metadata": {},
   "outputs": [],
   "source": [
    "# Creating and added documents to vector store\n",
    "db = Chroma.from_documents(docs,  #Document object \n",
    "                            embedding_model) #Huggingface embedding model"
   ]
  },
  {
   "cell_type": "code",
   "execution_count": 10,
   "id": "4b079fb7",
   "metadata": {},
   "outputs": [],
   "source": [
    "# Creating a retriever\n",
    "retriever = db.as_retriever(search_type = \"mmr\"  #Maximux-marginal-relevance \n",
    "                            ,search_kwargs = {'k':2,'lambda_mult':0.4} # 'k': select top 2 similar documents and 'lambda_mult': for diverse documents \n",
    "                            )"
   ]
  },
  {
   "cell_type": "code",
   "execution_count": 11,
   "id": "eeac6774",
   "metadata": {},
   "outputs": [
    {
     "name": "stdout",
     "output_type": "stream",
     "text": [
      "---Document-1\n",
      "Question: What types of leave are offered besides annual leave?\n",
      "Answer: We provide: Sick leave (12 days/year), Maternity leave (6 months), Paternity leave (4 weeks), Bereavement leave (5 days)\n",
      "---Document-2\n",
      "Question: What is the building's evacuation procedure?\n",
      "Answer: Evacuation maps are posted throughout the building. In case of an emergency, alarms will sound and staff will direct occupants to the nearest exit.\n"
     ]
    }
   ],
   "source": [
    "# Test how well is the retriever working \n",
    "query = \"what are the types of leaves that employee can take ?\"\n",
    "result = retriever.invoke(query)\n",
    "for index , res in enumerate(result):\n",
    "    print(f\"---Document-{index+1}\")\n",
    "    print(res.page_content)"
   ]
  },
  {
   "cell_type": "markdown",
   "id": "e47adebf",
   "metadata": {},
   "source": [
    "## Step-4 Creating a prompt template"
   ]
  },
  {
   "cell_type": "code",
   "execution_count": 12,
   "id": "cb012ada",
   "metadata": {},
   "outputs": [],
   "source": [
    "template = PromptTemplate(\n",
    "    template = \"\"\"You are a helpful AI assistance.Please answer the given user question only based on the context provided. \n",
    "'context'\n",
    "{context}\n",
    "'user question'\n",
    "{input}\"\"\",\n",
    "input_variables=['context','input']\n",
    ")"
   ]
  },
  {
   "cell_type": "markdown",
   "id": "32778429",
   "metadata": {},
   "source": [
    "## Step-5 Create a Chain \n",
    "\n",
    "#### Creating a RAG_Chain by combining components like 'prompt template' , 'retriever' etc"
   ]
  },
  {
   "cell_type": "code",
   "execution_count": 13,
   "id": "5f4797f3",
   "metadata": {},
   "outputs": [],
   "source": [
    "# To create a chain that \"Formats retrieved documents + question into a prompt and passes it to the LLM for answering.\"\n",
    "combine_docs_chain = create_stuff_documents_chain(model, template)\n",
    "# To create a final chain to reterive, format prompt and generate answer \n",
    "rag_chain = create_retrieval_chain(retriever, combine_docs_chain) "
   ]
  },
  {
   "cell_type": "code",
   "execution_count": 14,
   "id": "b47a4e4a",
   "metadata": {},
   "outputs": [
    {
     "data": {
      "text/plain": [
       "'The types of leaves that an employee can take are: \\n1. Sick leave (12 days/year)\\n2. Maternity leave (6 months)\\n3. Paternity leave (4 weeks)\\n4. Bereavement leave (5 days) \\nBesides these, annual leave is also available.'"
      ]
     },
     "execution_count": 14,
     "metadata": {},
     "output_type": "execute_result"
    }
   ],
   "source": [
    "# Ask a query to the llm to reg the final response\n",
    "result = rag_chain.invoke({\n",
    "    'input':query\n",
    "})\n",
    "result['answer']"
   ]
  },
  {
   "cell_type": "markdown",
   "id": "1c6ba9f9",
   "metadata": {},
   "source": [
    "## Step-6 Creating tools \n",
    "\n",
    "### Tool A. VectorStore Retriever tool (Convert the rag_chain into a tool)\n",
    "\n",
    "#### Redirect to this tool if the user queries is regarding the companies HR Policy\n",
    "\n",
    "### Tool B. DuckDuckSeach Tool\n",
    "\n",
    "#### Redirect to this tool if the user query is general \n"
   ]
  },
  {
   "cell_type": "code",
   "execution_count": 15,
   "id": "3319bd9d",
   "metadata": {},
   "outputs": [],
   "source": [
    "@tool\n",
    "def retrieve_vectorstore_tool(query:str)->str:\n",
    "    \"\"\"RAG solution for a companys HR Policy FAQ\"\"\"\n",
    "    return rag_chain.invoke({'input':query})"
   ]
  },
  {
   "cell_type": "code",
   "execution_count": 16,
   "id": "3e7ac633",
   "metadata": {},
   "outputs": [],
   "source": [
    "search = DuckDuckGoSearchRun()\n",
    "@tool\n",
    "def duckducksearch_tool(query:str)->str:\n",
    "    \"\"\"Perform duckduck search when user query is other then companies HR policy\"\"\"\n",
    "    return search.invoke(query)\n"
   ]
  },
  {
   "cell_type": "markdown",
   "id": "c41e8805",
   "metadata": {},
   "source": [
    "## Step-7 Bind the llm with tools"
   ]
  },
  {
   "cell_type": "code",
   "execution_count": 17,
   "id": "2de0d441",
   "metadata": {},
   "outputs": [],
   "source": [
    "tools = [retrieve_vectorstore_tool,duckducksearch_tool]\n",
    "llm_with_tools = model.bind_tools(tools=tools)"
   ]
  },
  {
   "cell_type": "code",
   "execution_count": 18,
   "id": "b3423d31",
   "metadata": {},
   "outputs": [
    {
     "data": {
      "text/plain": [
       "[{'name': 'retrieve_vectorstore_tool',\n",
       "  'args': {'query': 'types of leaves that employee can take'},\n",
       "  'id': 'call_wg1b',\n",
       "  'type': 'tool_call'}]"
      ]
     },
     "execution_count": 18,
     "metadata": {},
     "output_type": "execute_result"
    }
   ],
   "source": [
    "llm_with_tools.invoke(query).tool_calls"
   ]
  },
  {
   "cell_type": "markdown",
   "id": "73beb14d",
   "metadata": {},
   "source": [
    "## Step-8 Define the langgraph Workflow"
   ]
  },
  {
   "cell_type": "code",
   "execution_count": 19,
   "id": "d33d6917",
   "metadata": {},
   "outputs": [],
   "source": [
    "from typing_extensions import Annotated,TypedDict #Annotated for labelling and TypeDict to maintain graph state \n",
    "from langchain_core.messages import AnyMessage #Human message or Ai Message\n",
    "from langgraph.graph.message import add_messages  ## Reducers in Langgraph \n",
    "\n",
    "#Schema info that flows through the nodes\n",
    "class state(TypedDict):\n",
    "    messages:Annotated[list[AnyMessage],add_messages]"
   ]
  },
  {
   "cell_type": "code",
   "execution_count": 20,
   "id": "94a31071",
   "metadata": {},
   "outputs": [
    {
     "data": {
      "image/png": "[encoded data removed]",
      "text/plain": [
       "<IPython.core.display.Image object>"
      ]
     },
     "metadata": {},
     "output_type": "display_data"
    }
   ],
   "source": [
    "from langgraph.graph import StateGraph, START, END\n",
    "from langgraph.prebuilt import ToolNode #specialized node designed to execute tools within our workflow.\n",
    "from langgraph.prebuilt import tools_condition\n",
    "from IPython.display import Image, display #to visualize the Graph\n",
    "\n",
    "\n",
    "\n",
    "#Function that decides which tool to use for serving the userquery\n",
    "def tool_calling_llm(state:state) ->state:\n",
    "    return {\"messages\":[llm_with_tools.invoke(state['messages'])]}\n",
    "\n",
    "# Initialize the StateGraph\n",
    "builder = StateGraph(state_schema=state)\n",
    "\n",
    "#Adding Nodes\n",
    "builder.add_node('tool_calling_llm',tool_calling_llm) #returns the tools that is to be used\n",
    "builder.add_node('tools',ToolNode(tools=tools)) #Uses the tool specified to fetch result\n",
    "\n",
    "#Adding Edges\n",
    "builder.add_edge(START,'tool_calling_llm')\n",
    "builder.add_conditional_edges(\n",
    "    'tool_calling_llm',\n",
    "    # If the latest message from AI is a tool call -> tools_condition routes to tools\n",
    "    # If the latest message from AI is a not a tool call -> tools_condition routes to LLM, then generate final response and END\n",
    "    tools_condition\n",
    ")\n",
    "builder.add_edge('tools','tool_calling_llm')\n",
    "\n",
    "#Compile the graph\n",
    "graph = builder.compile()\n",
    "\n",
    "# View\n",
    "display(Image(graph.get_graph().draw_mermaid_png()))\n"
   ]
  },
  {
   "cell_type": "code",
   "execution_count": 21,
   "id": "ff55994a",
   "metadata": {},
   "outputs": [],
   "source": [
    "response = graph.invoke({\n",
    "    'messages': query\n",
    "})"
   ]
  },
  {
   "cell_type": "code",
   "execution_count": 22,
   "id": "0a852f6d",
   "metadata": {},
   "outputs": [
    {
     "name": "stdout",
     "output_type": "stream",
     "text": [
      "================================\u001b[1m Human Message \u001b[0m=================================\n",
      "\n",
      "what are the types of leaves that employee can take ?\n",
      "==================================\u001b[1m Ai Message \u001b[0m==================================\n",
      "Tool Calls:\n",
      "  retrieve_vectorstore_tool (call_hzm6)\n",
      " Call ID: call_hzm6\n",
      "  Args:\n",
      "    query: types of leaves for employees in company HR policy\n",
      "=================================\u001b[1m Tool Message \u001b[0m=================================\n",
      "Name: retrieve_vectorstore_tool\n",
      "\n",
      "{'input': 'types of leaves for employees in company HR policy', 'context': [Document(id='0d2424e4-c67b-4da9-802f-451e3b2f1f7d', metadata={'row': 48, 'source': './company_QA.csv'}, page_content='Question: What types of leave are offered besides annual leave?\\nAnswer: We provide: Sick leave (12 days/year), Maternity leave (6 months), Paternity leave (4 weeks), Bereavement leave (5 days)'), Document(id='a9bf6caa-59d0-4e05-9ab1-d4e3e8011f71', metadata={'row': 41, 'source': './company_QA.csv'}, page_content=\"Question: What is the building's evacuation procedure?\\nAnswer: Evacuation maps are posted throughout the building. In case of an emergency, alarms will sound and staff will direct occupants to the nearest exit.\")], 'answer': \"According to the company's HR policy, the types of leaves offered to employees, besides annual leave, are: \\n1. Sick leave (12 days/year)\\n2. Maternity leave (6 months)\\n3. Paternity leave (4 weeks)\\n4. Bereavement leave (5 days)\"}\n",
      "==================================\u001b[1m Ai Message \u001b[0m==================================\n",
      "\n",
      "The company offers various types of leaves to its employees, including sick leave, maternity leave, paternity leave, and bereavement leave, in addition to annual leave. The specifics of these leaves are as follows: \n",
      "1. Sick leave: 12 days per year\n",
      "2. Maternity leave: 6 months\n",
      "3. Paternity leave: 4 weeks\n",
      "4. Bereavement leave: 5 days\n"
     ]
    }
   ],
   "source": [
    "for msg in response['messages']:\n",
    "    msg.pretty_print()"
   ]
  },
  {
   "cell_type": "code",
   "execution_count": 23,
   "id": "6dc0204f",
   "metadata": {},
   "outputs": [
    {
     "name": "stdout",
     "output_type": "stream",
     "text": [
      "User: what are the types of leaves that employee can take ?\n",
      "\n",
      "AI :The company offers various types of leaves to its employees, including sick leave, maternity leave, paternity leave, and bereavement leave, in addition to annual leave. The specifics of these leaves are as follows: \n",
      "1. Sick leave: 12 days per year\n",
      "2. Maternity leave: 6 months\n",
      "3. Paternity leave: 4 weeks\n",
      "4. Bereavement leave: 5 days\n"
     ]
    }
   ],
   "source": [
    "print(f'User: {query}\\n')\n",
    "print(f\"AI :{response['messages'][-1].content}\")"
   ]
  },
  {
   "cell_type": "code",
   "execution_count": null,
   "id": "e3fff7dc",
   "metadata": {},
   "outputs": [],
   "source": []
  }
 ],
 "metadata": {
  "kernelspec": {
   "display_name": "berrybytesrag",
   "language": "python",
   "name": "python3"
  },
  "language_info": {
   "codemirror_mode": {
    "name": "ipython",
    "version": 3
   },
   "file_extension": ".py",
   "mimetype": "text/x-python",
   "name": "python",
   "nbconvert_exporter": "python",
   "pygments_lexer": "ipython3",
   "version": "3.11.7"
  }
 },
 "nbformat": 4,
 "nbformat_minor": 5
}
